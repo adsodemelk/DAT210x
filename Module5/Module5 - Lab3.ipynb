{
 "cells": [
  {
   "cell_type": "markdown",
   "metadata": {},
   "source": [
    "# DAT210x - Programming with Python for DS"
   ]
  },
  {
   "cell_type": "markdown",
   "metadata": {},
   "source": [
    "## Module5- Lab3"
   ]
  },
  {
   "cell_type": "code",
   "execution_count": 5,
   "metadata": {
    "collapsed": true
   },
   "outputs": [],
   "source": [
    "import pandas as pd\n",
    "from datetime import timedelta\n",
    "from sklearn.cluster import KMeans\n",
    "import matplotlib.pyplot as plt\n",
    "import matplotlib\n",
    "\n",
    "matplotlib.style.use('ggplot') # Look Pretty"
   ]
  },
  {
   "cell_type": "markdown",
   "metadata": {},
   "source": [
    "A convenience function for you to use:"
   ]
  },
  {
   "cell_type": "code",
   "execution_count": 6,
   "metadata": {
    "collapsed": false
   },
   "outputs": [],
   "source": [
    "def clusterInfo(model):\n",
    "    print(\"Cluster Analysis Inertia: \", model.inertia_)\n",
    "    print('------------------------------------------')\n",
    "    \n",
    "    for i in range(len(model.cluster_centers_)):\n",
    "        print(\"\\n  Cluster \", i)\n",
    "        print(\"    Centroid \", model.cluster_centers_[i])\n",
    "        print(\"    #Samples \", (model.labels_==i).sum()) # NumPy Power"
   ]
  },
  {
   "cell_type": "code",
   "execution_count": 7,
   "metadata": {
    "collapsed": true
   },
   "outputs": [],
   "source": [
    "# Find the cluster with the least # attached nodes\n",
    "def clusterWithFewestSamples(model):\n",
    "    # Ensure there's at least on cluster...\n",
    "    minSamples = len(model.labels_)\n",
    "    minCluster = 0\n",
    "    \n",
    "    for i in range(len(model.cluster_centers_)):\n",
    "        if minSamples > (model.labels_==i).sum():\n",
    "            minCluster = i\n",
    "            minSamples = (model.labels_==i).sum()\n",
    "\n",
    "    print(\"\\n  Cluster With Fewest Samples: \", minCluster)\n",
    "    return (model.labels_==minCluster)"
   ]
  },
  {
   "cell_type": "markdown",
   "metadata": {},
   "source": [
    "### CDRs"
   ]
  },
  {
   "cell_type": "markdown",
   "metadata": {},
   "source": [
    "A [call detail record](https://en.wikipedia.org/wiki/Call_detail_record) (CDR) is a data record produced by a telephone exchange or other telecommunications equipment that documents the details of a telephone call or other telecommunications transaction (e.g., text message) that passes through that facility or device.\n",
    "\n",
    "The record contains various attributes of the call, such as time, duration, completion status, source number, and destination number. It is the automated equivalent of the paper toll tickets that were written and timed by operators for long-distance calls in a manual telephone exchange.\n",
    "\n",
    "The dataset we've curated for you contains call records for 10 people, tracked over the course of 3 years. Your job in this assignment is to find out where each of these people likely live and where they work at!\n",
    "\n",
    "Start by loading up the dataset and taking a peek at its `head` and `dtypes`. You can convert date-strings to real date-time objects using `pd.to_datetime`, and the times using `pd.to_timedelta`:"
   ]
  },
  {
   "cell_type": "code",
   "execution_count": 8,
   "metadata": {
    "collapsed": false
   },
   "outputs": [
    {
     "name": "stdout",
     "output_type": "stream",
     "text": [
      "           In         Out Direction    CallDate         CallTime  DOW  \\\n",
      "0  4638472273  2666307251  Incoming  2010-12-25  07:16:24.736813  Sat   \n",
      "1  4638472273  1755442610  Incoming  2010-12-25  21:18:30.053710  Sat   \n",
      "2  4638472273  5481755331  Incoming  2010-12-25  14:52:42.878016  Sat   \n",
      "3  4638472273  1755442610  Incoming  2010-12-25  16:02:09.001913  Sat   \n",
      "4  4638472273  2145623768  Incoming  2010-12-25  15:28:35.028554  Sat   \n",
      "\n",
      "         Duration                               TowerID   TowerLat   TowerLon  \n",
      "0  0:02:41.741499  0db53dd3-eb9c-4344-abc5-c2d74ebc3eec  32.731611 -96.709417  \n",
      "1  0:02:47.108750  aeaf8b43-8034-44fe-833d-31854a75acbf  32.731722 -96.709500  \n",
      "2  0:04:35.356341  fadaa83f-6001-45fd-aa4a-17d6c6b7ec00  32.899944 -96.910389  \n",
      "3  0:02:23.498499  fadaa83f-6001-45fd-aa4a-17d6c6b7ec00  32.899944 -96.910389  \n",
      "4  0:03:54.692497  95d7920d-c3cd-4d20-a568-9a55800dc807  32.899944 -96.910389  \n",
      "In                     int64\n",
      "Out                    int64\n",
      "Direction             object\n",
      "CallDate      datetime64[ns]\n",
      "CallTime     timedelta64[ns]\n",
      "DOW                   object\n",
      "Duration     timedelta64[ns]\n",
      "TowerID               object\n",
      "TowerLat             float64\n",
      "TowerLon             float64\n",
      "dtype: object\n",
      "Empty DataFrame\n",
      "Columns: [In, Out, Direction, CallDate, CallTime, DOW, Duration, TowerID, TowerLat, TowerLon]\n",
      "Index: []\n"
     ]
    }
   ],
   "source": [
    "# .. your code here ..\n",
    "df = pd.read_csv('Datasets/CDR.csv')\n",
    "print (df.head())\n",
    "df.CallDate = pd.to_datetime(df.CallDate)\n",
    "df.Duration = pd.to_timedelta(df.Duration)\n",
    "df.CallTime = pd.to_timedelta(df.CallTime)\n",
    "print (df.dtypes)\n",
    "print (df[(df.TowerLat == 32.721986) & (df.TowerLon == -96.890587)]) #the data for second question (post office Lon/Lat)"
   ]
  },
  {
   "cell_type": "markdown",
   "metadata": {},
   "source": [
    "Create a unique list of the phone number values (people) stored in the `In` column of the dataset, and save them in a regular python list called `unique_numbers`. Manually check through `unique_numbers` to ensure the order the numbers appear is the same order they (uniquely) appear in your dataset:"
   ]
  },
  {
   "cell_type": "code",
   "execution_count": 9,
   "metadata": {
    "collapsed": false
   },
   "outputs": [
    {
     "data": {
      "text/plain": [
       "array([4638472273, 1559410755, 4931532174, 2419930464, 1884182865,\n",
       "       3688089071, 4555003213, 2068627935, 2894365987, 8549533077], dtype=int64)"
      ]
     },
     "execution_count": 9,
     "metadata": {},
     "output_type": "execute_result"
    }
   ],
   "source": [
    "users = df.In.unique()\n",
    "users"
   ]
  },
  {
   "cell_type": "markdown",
   "metadata": {},
   "source": [
    "Using some domain expertise, your intuition should direct you to know that people are likely to behave differently on weekends vs on weekdays:\n",
    "\n",
    "#### On Weekends\n",
    "1. People probably don't go into work\n",
    "1. They probably sleep in late on Saturday\n",
    "1. They probably run a bunch of random errands, since they couldn't during the week\n",
    "1. They should be home, at least during the very late hours, e.g. 1-4 AM\n",
    "\n",
    "#### On Weekdays\n",
    "1. People probably are at work during normal working hours\n",
    "1. They probably are at home in the early morning and during the late night\n",
    "1. They probably spend time commuting between work and home everyday"
   ]
  },
  {
   "cell_type": "code",
   "execution_count": 10,
   "metadata": {
    "collapsed": false
   },
   "outputs": [
    {
     "name": "stdout",
     "output_type": "stream",
     "text": [
      "Examining person:  0\n"
     ]
    }
   ],
   "source": [
    "print(\"Examining person: \", 0)"
   ]
  },
  {
   "cell_type": "markdown",
   "metadata": {},
   "source": [
    "Create a slice called `user1` that filters to only include dataset records where the `In` feature (user phone number) is equal to the first number on your unique list above:"
   ]
  },
  {
   "cell_type": "code",
   "execution_count": 11,
   "metadata": {
    "collapsed": true
   },
   "outputs": [],
   "source": [
    "user1 = df[(df.In == users[8])]"
   ]
  },
  {
   "cell_type": "markdown",
   "metadata": {},
   "source": [
    "Alter your slice so that it includes only Weekday (Mon-Fri) values:"
   ]
  },
  {
   "cell_type": "code",
   "execution_count": 12,
   "metadata": {
    "collapsed": false
   },
   "outputs": [],
   "source": [
    "user1 = user1[(user1.DOW == 'Mon') | (user1.DOW == 'Tue') | (user1.DOW == 'Wed') | (user1.DOW == 'Thu') | (user1.DOW == 'Fri')]"
   ]
  },
  {
   "cell_type": "markdown",
   "metadata": {},
   "source": [
    "The idea is that the call was placed before 5pm. From Midnight-730a, the user is probably sleeping and won't call / wake up to take a call. There should be a brief time in the morning during their commute to work, then they'll spend the entire day at work. So the assumption is that most of the time is spent either at work, or in 2nd, at home:"
   ]
  },
  {
   "cell_type": "code",
   "execution_count": 13,
   "metadata": {
    "collapsed": true
   },
   "outputs": [],
   "source": [
    "user1 = user1[(user1.CallTime < \"17:00:00\")]"
   ]
  },
  {
   "cell_type": "markdown",
   "metadata": {},
   "source": [
    "Plot the Cell Towers the user connected to"
   ]
  },
  {
   "cell_type": "code",
   "execution_count": 14,
   "metadata": {
    "collapsed": false
   },
   "outputs": [
    {
     "data": {
      "image/png": "[encoded data removed]",
      "text/plain": [
       "<matplotlib.figure.Figure at 0x1f32e6c5518>"
      ]
     },
     "metadata": {},
     "output_type": "display_data"
    },
    {
     "data": {
      "image/png": "[encoded data removed]",
      "text/plain": [
       "<matplotlib.figure.Figure at 0x1f32eb80048>"
      ]
     },
     "metadata": {},
     "output_type": "display_data"
    }
   ],
   "source": [
    "fig = plt.figure()\n",
    "ax = fig.add_subplot(111)\n",
    "ax.scatter(user1.TowerLon,user1.TowerLat, c='g', marker='o', alpha=0.2)\n",
    "ax.set_title('Weekday Calls before 5PM')\n",
    "plt.show()"
   ]
  },
  {
   "cell_type": "code",
   "execution_count": 15,
   "metadata": {
    "collapsed": true
   },
   "outputs": [],
   "source": [
    "def doKMeans(data, clusters=0):\n",
    "  #\n",
    "  # TODO: Be sure to only feed in Lat and Lon coordinates to the KMeans algo, since none of the other\n",
    "  # data is suitable for your purposes. Since both Lat and Lon are (approximately) on the same scale,\n",
    "  # no feature scaling is required. Print out the centroid locations and add them onto your scatter\n",
    "  # plot. Use a distinguishable marker and color.\n",
    "  #\n",
    "  # Hint: Make sure you fit ONLY the coordinates, and in the CORRECT order (lat first).\n",
    "  # This is part of your domain expertise.\n",
    "  #\n",
    "  # .. your code here ..\n",
    "  df1 = pd.concat([data.TowerLon, data.TowerLat], axis = 1)\n",
    "  kmeans = KMeans(n_clusters = clusters)\n",
    "  labels = kmeans.fit_predict(df1)\n",
    "  centroids = kmeans.cluster_centers_\n",
    "  ax.scatter(x = centroids[:, 0], y = centroids[:, 1], c = 'r', marker = 'x', s = 100)\n",
    "  model = kmeans\n",
    "  return model\n"
   ]
  },
  {
   "cell_type": "markdown",
   "metadata": {},
   "source": [
    "Let's tun K-Means with `K=3` or `K=4`. There really should only be a two areas of concentration. If you notice multiple areas that are \"hot\" (multiple areas the user spends a lot of time at that are FAR apart from one another), then increase K=5, with the goal being that all centroids except two will sweep up the annoying outliers and not-home, not-work travel occasions. the other two will zero in on the user's approximate home location and work locations. Or rather the location of the cell tower closest to them....."
   ]
  },
  {
   "cell_type": "code",
   "execution_count": 16,
   "metadata": {
    "collapsed": false
   },
   "outputs": [],
   "source": [
    "model = doKMeans(user1, 3)\n",
    "model4 = doKMeans(user1, 4)"
   ]
  },
  {
   "cell_type": "markdown",
   "metadata": {},
   "source": [
    "Print out the mean `CallTime` value for the samples belonging to the cluster with the LEAST samples attached to it. If our logic is correct, the cluster with the MOST samples will be work. The cluster with the 2nd most samples will be home. And the `K=3` cluster with the least samples should be somewhere in between the two. What time, on average, is the user in between home and work, between the midnight and 5pm?"
   ]
  },
  {
   "cell_type": "code",
   "execution_count": 17,
   "metadata": {
    "collapsed": false
   },
   "outputs": [
    {
     "name": "stdout",
     "output_type": "stream",
     "text": [
      "\n",
      "  Cluster With Fewest Samples:  0\n",
      "    Its Waypoint Time:  0 days 07:49:09.489252\n"
     ]
    }
   ],
   "source": [
    "midWayClusterIndices = clusterWithFewestSamples(model)\n",
    "midWaySamples = user1[midWayClusterIndices]\n",
    "print(\"    Its Waypoint Time: \", midWaySamples.CallTime.mean())"
   ]
  },
  {
   "cell_type": "markdown",
   "metadata": {},
   "source": [
    "Let's visualize the results! First draw the X's for the clusters:"
   ]
  },
  {
   "cell_type": "code",
   "execution_count": 22,
   "metadata": {
    "collapsed": false
   },
   "outputs": [],
   "source": [
    "ax = fig.add_subplot(121)\n",
    "ax.scatter(user1.TowerLon,user1.TowerLat, c='g', marker='o', alpha=0.2)\n",
    "ax.set_title('Weekday Calls before 5PM')\n",
    "ax.scatter(model.cluster_centers_[:,1], model.cluster_centers_[:,0], s=169, c='r', marker='x', alpha=0.8, linewidths=2)\n",
    "ax.set_title('Weekday Calls Centroids')\n",
    "plt.show()"
   ]
  },
  {
   "cell_type": "code",
   "execution_count": null,
   "metadata": {
    "collapsed": false
   },
   "outputs": [],
   "source": []
  },
  {
   "cell_type": "code",
   "execution_count": 1,
   "metadata": {
    "collapsed": true
   },
   "outputs": [],
   "source": []
  },
  {
   "cell_type": "code",
   "execution_count": 2,
   "metadata": {
    "collapsed": false
   },
   "outputs": [],
   "source": []
  },
  {
   "cell_type": "code",
   "execution_count": null,
   "metadata": {
    "collapsed": true
   },
   "outputs": [],
   "source": []
  }
 ],
 "metadata": {
  "anaconda-cloud": {},
  "kernelspec": {
   "display_name": "Python 3",
   "language": "python",
   "name": "python3"
  },
  "language_info": {
   "codemirror_mode": {
    "name": "ipython",
    "version": 3
   },
   "file_extension": ".py",
   "mimetype": "text/x-python",
   "name": "python",
   "nbconvert_exporter": "python",
   "pygments_lexer": "ipython3",
   "version": "3.6.0"
  },
  "toc": {
   "colors": {
    "hover_highlight": "#DAA520",
    "running_highlight": "#FF0000",
    "selected_highlight": "#FFD700"
   },
   "moveMenuLeft": true,
   "nav_menu": {
    "height": "58px",
    "width": "252px"
   },
   "navigate_menu": true,
   "number_sections": true,
   "sideBar": true,
   "threshold": 4,
   "toc_cell": false,
   "toc_section_display": "block",
   "toc_window_display": false,
   "widenNotebook": false
  }
 },
 "nbformat": 4,
 "nbformat_minor": 2
}
