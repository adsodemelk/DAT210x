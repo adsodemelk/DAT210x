{
 "cells": [
  {
   "cell_type": "markdown",
   "metadata": {},
   "source": [
    "# DAT210x - Programming with Python for DS"
   ]
  },
  {
   "cell_type": "markdown",
   "metadata": {},
   "source": [
    "## Module5- Lab4"
   ]
  },
  {
   "cell_type": "code",
   "execution_count": 21,
   "metadata": {
    "collapsed": true
   },
   "outputs": [],
   "source": [
    "import math\n",
    "import numpy as np\n",
    "import pandas as pd\n",
    "\n",
    "import matplotlib.pyplot as plt\n",
    "import matplotlib\n",
    "\n",
    "from sklearn import preprocessing\n",
    "from sklearn.decomposition import PCA\n",
    "\n",
    "# You might need to import more modules here..\n",
    "from sklearn.cluster import KMeans\n",
    "\n",
    "matplotlib.style.use('ggplot') # Look Pretty\n",
    "c = ['red', 'green', 'blue', 'orange', 'yellow', 'brown']"
   ]
  },
  {
   "cell_type": "markdown",
   "metadata": {},
   "source": [
    "You can experiment with these parameters:"
   ]
  },
  {
   "cell_type": "code",
   "execution_count": 2,
   "metadata": {
    "collapsed": false
   },
   "outputs": [],
   "source": [
    "PLOT_TYPE_TEXT = False    # If you'd like to see indices\n",
    "PLOT_VECTORS = True       # If you'd like to see your original features in P.C.-Space"
   ]
  },
  {
   "cell_type": "markdown",
   "metadata": {},
   "source": [
    "### Some Convenience Functions"
   ]
  },
  {
   "cell_type": "code",
   "execution_count": 5,
   "metadata": {
    "collapsed": false
   },
   "outputs": [],
   "source": [
    "def drawVectors(transformed_features, components_, columns, plt):\n",
    "    num_columns = len(columns)\n",
    "\n",
    "    # This function will project your *original* feature (columns)\n",
    "    # onto your principal component feature-space, so that you can\n",
    "    # visualize how \"important\" each one was in the\n",
    "    # multi-dimensional scaling\n",
    "\n",
    "    # Scale the principal components by the max value in\n",
    "    # the transformed set belonging to that component\n",
    "    xvector = components_[0] * max(transformed_features[:,0])\n",
    "    yvector = components_[1] * max(transformed_features[:,1])\n",
    "\n",
    "    ## Visualize projections\n",
    "\n",
    "    # Sort each column by its length. These are your *original*\n",
    "    # columns, not the principal components.\n",
    "    important_features = { columns[i] : math.sqrt(xvector[i]**2 + yvector[i]**2) for i in range(num_columns) }\n",
    "    important_features = sorted(zip(important_features.values(), important_features.keys()), reverse=True)\n",
    "    print(\"Projected Features by importance:\\n\", important_features)\n",
    "\n",
    "    ax = plt.axes()\n",
    "\n",
    "    for i in range(num_columns):\n",
    "        # Use an arrow to project each original feature as a\n",
    "        # labeled vector on your principal component axes\n",
    "        plt.arrow(0, 0, xvector[i], yvector[i], color='b', width=0.0005, head_width=0.02, alpha=0.75, zorder=600000)\n",
    "        plt.text(xvector[i]*1.2, yvector[i]*1.2, list(columns)[i], color='b', alpha=0.75, zorder=600000)\n",
    "        \n",
    "    return ax"
   ]
  },
  {
   "cell_type": "code",
   "execution_count": 6,
   "metadata": {
    "collapsed": true
   },
   "outputs": [],
   "source": [
    "def doPCA(data, dimensions=2):\n",
    "    model = PCA(n_components=dimensions, svd_solver='randomized', random_state=7)\n",
    "    model.fit(data)\n",
    "    return model"
   ]
  },
  {
   "cell_type": "code",
   "execution_count": 23,
   "metadata": {
    "collapsed": true
   },
   "outputs": [],
   "source": [
    "def doKMeans(data, clusters=0):\n",
    "    # TODO: Do the KMeans clustering here, passing in the # of clusters parameter\n",
    "    # and fit it against your data. Then, return a tuple containing the cluster\n",
    "    # centers and the labels.\n",
    "    #\n",
    "    # Hint: Just like with doPCA above, you will have to create a variable called\n",
    "    # `model`, which will be a SKLearn K-Means model for this to work.\n",
    "    \n",
    "    model = KMeans(n_clusters = clusters)\n",
    "    labels = model.fit_predict(data)\n",
    "    return model.cluster_centers_, model.labels_"
   ]
  },
  {
   "cell_type": "markdown",
   "metadata": {
    "collapsed": true
   },
   "source": [
    "Load up the dataset. It may or may not have nans in it. Make sure you catch them and destroy them, by setting them to `0`. This is valid for this dataset, since if the value is missing, you can assume no money was spent on it."
   ]
  },
  {
   "cell_type": "code",
   "execution_count": 11,
   "metadata": {
    "collapsed": false
   },
   "outputs": [
    {
     "data": {
      "text/html": [
       "<div>\n",
       "<table border=\"1\" class=\"dataframe\">\n",
       "  <thead>\n",
       "    <tr style=\"text-align: right;\">\n",
       "      <th></th>\n",
       "      <th>Channel</th>\n",
       "      <th>Region</th>\n",
       "      <th>Fresh</th>\n",
       "      <th>Milk</th>\n",
       "      <th>Grocery</th>\n",
       "      <th>Frozen</th>\n",
       "      <th>Detergents_Paper</th>\n",
       "      <th>Delicassen</th>\n",
       "    </tr>\n",
       "  </thead>\n",
       "  <tbody>\n",
       "    <tr>\n",
       "      <th>count</th>\n",
       "      <td>440.000000</td>\n",
       "      <td>440.000000</td>\n",
       "      <td>440.000000</td>\n",
       "      <td>440.000000</td>\n",
       "      <td>440.000000</td>\n",
       "      <td>440.000000</td>\n",
       "      <td>440.000000</td>\n",
       "      <td>440.000000</td>\n",
       "    </tr>\n",
       "    <tr>\n",
       "      <th>mean</th>\n",
       "      <td>1.322727</td>\n",
       "      <td>2.543182</td>\n",
       "      <td>12000.297727</td>\n",
       "      <td>5796.265909</td>\n",
       "      <td>7951.277273</td>\n",
       "      <td>3071.931818</td>\n",
       "      <td>2881.493182</td>\n",
       "      <td>1524.870455</td>\n",
       "    </tr>\n",
       "    <tr>\n",
       "      <th>std</th>\n",
       "      <td>0.468052</td>\n",
       "      <td>0.774272</td>\n",
       "      <td>12647.328865</td>\n",
       "      <td>7380.377175</td>\n",
       "      <td>9503.162829</td>\n",
       "      <td>4854.673333</td>\n",
       "      <td>4767.854448</td>\n",
       "      <td>2820.105937</td>\n",
       "    </tr>\n",
       "    <tr>\n",
       "      <th>min</th>\n",
       "      <td>1.000000</td>\n",
       "      <td>1.000000</td>\n",
       "      <td>3.000000</td>\n",
       "      <td>55.000000</td>\n",
       "      <td>3.000000</td>\n",
       "      <td>25.000000</td>\n",
       "      <td>3.000000</td>\n",
       "      <td>3.000000</td>\n",
       "    </tr>\n",
       "    <tr>\n",
       "      <th>25%</th>\n",
       "      <td>1.000000</td>\n",
       "      <td>2.000000</td>\n",
       "      <td>3127.750000</td>\n",
       "      <td>1533.000000</td>\n",
       "      <td>2153.000000</td>\n",
       "      <td>742.250000</td>\n",
       "      <td>256.750000</td>\n",
       "      <td>408.250000</td>\n",
       "    </tr>\n",
       "    <tr>\n",
       "      <th>50%</th>\n",
       "      <td>1.000000</td>\n",
       "      <td>3.000000</td>\n",
       "      <td>8504.000000</td>\n",
       "      <td>3627.000000</td>\n",
       "      <td>4755.500000</td>\n",
       "      <td>1526.000000</td>\n",
       "      <td>816.500000</td>\n",
       "      <td>965.500000</td>\n",
       "    </tr>\n",
       "    <tr>\n",
       "      <th>75%</th>\n",
       "      <td>2.000000</td>\n",
       "      <td>3.000000</td>\n",
       "      <td>16933.750000</td>\n",
       "      <td>7190.250000</td>\n",
       "      <td>10655.750000</td>\n",
       "      <td>3554.250000</td>\n",
       "      <td>3922.000000</td>\n",
       "      <td>1820.250000</td>\n",
       "    </tr>\n",
       "    <tr>\n",
       "      <th>max</th>\n",
       "      <td>2.000000</td>\n",
       "      <td>3.000000</td>\n",
       "      <td>112151.000000</td>\n",
       "      <td>73498.000000</td>\n",
       "      <td>92780.000000</td>\n",
       "      <td>60869.000000</td>\n",
       "      <td>40827.000000</td>\n",
       "      <td>47943.000000</td>\n",
       "    </tr>\n",
       "  </tbody>\n",
       "</table>\n",
       "</div>"
      ],
      "text/plain": [
       "          Channel      Region          Fresh          Milk       Grocery  \\\n",
       "count  440.000000  440.000000     440.000000    440.000000    440.000000   \n",
       "mean     1.322727    2.543182   12000.297727   5796.265909   7951.277273   \n",
       "std      0.468052    0.774272   12647.328865   7380.377175   9503.162829   \n",
       "min      1.000000    1.000000       3.000000     55.000000      3.000000   \n",
       "25%      1.000000    2.000000    3127.750000   1533.000000   2153.000000   \n",
       "50%      1.000000    3.000000    8504.000000   3627.000000   4755.500000   \n",
       "75%      2.000000    3.000000   16933.750000   7190.250000  10655.750000   \n",
       "max      2.000000    3.000000  112151.000000  73498.000000  92780.000000   \n",
       "\n",
       "             Frozen  Detergents_Paper    Delicassen  \n",
       "count    440.000000        440.000000    440.000000  \n",
       "mean    3071.931818       2881.493182   1524.870455  \n",
       "std     4854.673333       4767.854448   2820.105937  \n",
       "min       25.000000          3.000000      3.000000  \n",
       "25%      742.250000        256.750000    408.250000  \n",
       "50%     1526.000000        816.500000    965.500000  \n",
       "75%     3554.250000       3922.000000   1820.250000  \n",
       "max    60869.000000      40827.000000  47943.000000  "
      ]
     },
     "execution_count": 11,
     "metadata": {},
     "output_type": "execute_result"
    }
   ],
   "source": [
    "# .. your code here ..\n",
    "df = pd.read_csv('Datasets/Wholesale customers data.csv')\n",
    "df.describe()\n",
    "#print (df.isnull().sum()) # Shows that there are no NaNs in the data!"
   ]
  },
  {
   "cell_type": "markdown",
   "metadata": {},
   "source": [
    "As instructed, get rid of the `Channel` and `Region` columns, since you'll be investigating as if this were a single location wholesaler, rather than a national / international one. Leaving these fields in here would cause KMeans to examine and give weight to them:"
   ]
  },
  {
   "cell_type": "code",
   "execution_count": 12,
   "metadata": {
    "collapsed": true
   },
   "outputs": [],
   "source": [
    "df.drop(labels = ['Channel', 'Region'], axis = 1, inplace = True)"
   ]
  },
  {
   "cell_type": "markdown",
   "metadata": {
    "collapsed": false
   },
   "source": [
    "Before unitizing / standardizing / normalizing your data in preparation for K-Means, it's a good idea to get a quick peek at it. You can do this using the `.describe()` method, or even by using the built-in pandas `df.plot.hist()`:"
   ]
  },
  {
   "cell_type": "code",
   "execution_count": 15,
   "metadata": {
    "collapsed": false
   },
   "outputs": [
    {
     "data": {
      "image/png": "[encoded data removed]",
      "text/plain": [
       "<matplotlib.figure.Figure at 0x1f1eadc9908>"
      ]
     },
     "metadata": {},
     "output_type": "display_data"
    }
   ],
   "source": [
    "df.plot.hist()\n",
    "plt.show()"
   ]
  },
  {
   "cell_type": "markdown",
   "metadata": {},
   "source": [
    "Having checked out your data, you may have noticed there's a pretty big gap between the top customers in each feature category and the rest. Some feature scaling algorithms won't get rid of outliers for you, so it's a good idea to handle that manually---particularly if your goal is NOT to determine the top customers. \n",
    "\n",
    "After all, you can do that with a simple Pandas `.sort_values()` and not a machine learning clustering algorithm. From a business perspective, you're probably more interested in clustering your +/- 2 standard deviation customers, rather than the top and bottom customers.\n",
    "\n",
    "Remove top 5 and bottom 5 samples for each column:"
   ]
  },
  {
   "cell_type": "code",
   "execution_count": 16,
   "metadata": {
    "collapsed": false
   },
   "outputs": [],
   "source": [
    "drop = {}\n",
    "for col in df.columns:\n",
    "    # Bottom 5\n",
    "    sort = df.sort_values(by=col, ascending=True)\n",
    "    if len(sort) > 5: sort=sort[:5]\n",
    "    for index in sort.index: drop[index] = True # Just store the index once\n",
    "\n",
    "    # Top 5\n",
    "    sort = df.sort_values(by=col, ascending=False)\n",
    "    if len(sort) > 5: sort=sort[:5]\n",
    "    for index in sort.index: drop[index] = True # Just store the index once"
   ]
  },
  {
   "cell_type": "markdown",
   "metadata": {},
   "source": [
    "Drop rows by index. We do this all at once in case there is a collision. This way, we don't end up dropping more rows than we have to, if there is a single row that satisfies the drop for multiple columns. Since there are 6 rows, if we end up dropping < 5*6*2 = 60 rows, that means there indeed were collisions:"
   ]
  },
  {
   "cell_type": "code",
   "execution_count": 17,
   "metadata": {
    "collapsed": false
   },
   "outputs": [
    {
     "name": "stdout",
     "output_type": "stream",
     "text": [
      "Dropping 42 Outliers...\n"
     ]
    },
    {
     "data": {
      "text/html": [
       "<div>\n",
       "<table border=\"1\" class=\"dataframe\">\n",
       "  <thead>\n",
       "    <tr style=\"text-align: right;\">\n",
       "      <th></th>\n",
       "      <th>Fresh</th>\n",
       "      <th>Milk</th>\n",
       "      <th>Grocery</th>\n",
       "      <th>Frozen</th>\n",
       "      <th>Detergents_Paper</th>\n",
       "      <th>Delicassen</th>\n",
       "    </tr>\n",
       "  </thead>\n",
       "  <tbody>\n",
       "    <tr>\n",
       "      <th>count</th>\n",
       "      <td>398.000000</td>\n",
       "      <td>398.000000</td>\n",
       "      <td>398.000000</td>\n",
       "      <td>398.000000</td>\n",
       "      <td>398.000000</td>\n",
       "      <td>398.000000</td>\n",
       "    </tr>\n",
       "    <tr>\n",
       "      <th>mean</th>\n",
       "      <td>10996.231156</td>\n",
       "      <td>5144.090452</td>\n",
       "      <td>7091.711055</td>\n",
       "      <td>2639.721106</td>\n",
       "      <td>2562.974874</td>\n",
       "      <td>1278.736181</td>\n",
       "    </tr>\n",
       "    <tr>\n",
       "      <th>std</th>\n",
       "      <td>9933.042596</td>\n",
       "      <td>5057.406574</td>\n",
       "      <td>6923.019293</td>\n",
       "      <td>2974.246906</td>\n",
       "      <td>3608.176776</td>\n",
       "      <td>1220.745297</td>\n",
       "    </tr>\n",
       "    <tr>\n",
       "      <th>min</th>\n",
       "      <td>37.000000</td>\n",
       "      <td>258.000000</td>\n",
       "      <td>314.000000</td>\n",
       "      <td>47.000000</td>\n",
       "      <td>10.000000</td>\n",
       "      <td>11.000000</td>\n",
       "    </tr>\n",
       "    <tr>\n",
       "      <th>25%</th>\n",
       "      <td>3324.500000</td>\n",
       "      <td>1571.250000</td>\n",
       "      <td>2155.500000</td>\n",
       "      <td>749.750000</td>\n",
       "      <td>273.250000</td>\n",
       "      <td>409.500000</td>\n",
       "    </tr>\n",
       "    <tr>\n",
       "      <th>50%</th>\n",
       "      <td>8257.500000</td>\n",
       "      <td>3607.500000</td>\n",
       "      <td>4573.000000</td>\n",
       "      <td>1526.000000</td>\n",
       "      <td>812.000000</td>\n",
       "      <td>946.500000</td>\n",
       "    </tr>\n",
       "    <tr>\n",
       "      <th>75%</th>\n",
       "      <td>15828.500000</td>\n",
       "      <td>6953.250000</td>\n",
       "      <td>9922.250000</td>\n",
       "      <td>3370.250000</td>\n",
       "      <td>3841.500000</td>\n",
       "      <td>1752.250000</td>\n",
       "    </tr>\n",
       "    <tr>\n",
       "      <th>max</th>\n",
       "      <td>53205.000000</td>\n",
       "      <td>29892.000000</td>\n",
       "      <td>39694.000000</td>\n",
       "      <td>17866.000000</td>\n",
       "      <td>19410.000000</td>\n",
       "      <td>7844.000000</td>\n",
       "    </tr>\n",
       "  </tbody>\n",
       "</table>\n",
       "</div>"
      ],
      "text/plain": [
       "              Fresh          Milk       Grocery        Frozen  \\\n",
       "count    398.000000    398.000000    398.000000    398.000000   \n",
       "mean   10996.231156   5144.090452   7091.711055   2639.721106   \n",
       "std     9933.042596   5057.406574   6923.019293   2974.246906   \n",
       "min       37.000000    258.000000    314.000000     47.000000   \n",
       "25%     3324.500000   1571.250000   2155.500000    749.750000   \n",
       "50%     8257.500000   3607.500000   4573.000000   1526.000000   \n",
       "75%    15828.500000   6953.250000   9922.250000   3370.250000   \n",
       "max    53205.000000  29892.000000  39694.000000  17866.000000   \n",
       "\n",
       "       Detergents_Paper   Delicassen  \n",
       "count        398.000000   398.000000  \n",
       "mean        2562.974874  1278.736181  \n",
       "std         3608.176776  1220.745297  \n",
       "min           10.000000    11.000000  \n",
       "25%          273.250000   409.500000  \n",
       "50%          812.000000   946.500000  \n",
       "75%         3841.500000  1752.250000  \n",
       "max        19410.000000  7844.000000  "
      ]
     },
     "execution_count": 17,
     "metadata": {},
     "output_type": "execute_result"
    }
   ],
   "source": [
    "print(\"Dropping {0} Outliers...\".format(len(drop)))\n",
    "df.drop(inplace=True, labels=drop.keys(), axis=0)\n",
    "df.describe()"
   ]
  },
  {
   "cell_type": "code",
   "execution_count": 18,
   "metadata": {
    "collapsed": false
   },
   "outputs": [
    {
     "data": {
      "image/png": "[encoded data removed]",
      "text/plain": [
       "<matplotlib.figure.Figure at 0x1f1ea4919b0>"
      ]
     },
     "metadata": {},
     "output_type": "display_data"
    }
   ],
   "source": [
    "df.plot.hist()\n",
    "plt.show()"
   ]
  },
  {
   "cell_type": "markdown",
   "metadata": {
    "collapsed": false
   },
   "source": [
    "### What are you interested in?"
   ]
  },
  {
   "cell_type": "markdown",
   "metadata": {
    "collapsed": true
   },
   "source": [
    "Depending on what you're interested in, you might take a different approach to normalizing/standardizing your data.\n",
    " \n",
    "You should note that all columns left in the dataset are of the same unit. You might ask yourself, do I even need to normalize / standardize the data? The answer depends on what you're trying to accomplish. For instance, although all the units are the same (generic money unit), the price per item in your store isn't. There may be some cheap items and some expensive one. If your goal is to find out what items people tend to buy together but you didn't  \"unitize\" properly before running kMeans, the contribution of the lesser priced item would be dwarfed by the more expensive item. This is an issue of scale.\n",
    "\n",
    "For a great overview on a few of the normalization methods supported in SKLearn, please check out: https://stackoverflow.com/questions/30918781/right-function-for-normalizing-input-of-sklearn-svm\n",
    "\n",
    "Suffice to say, at the end of the day, you're going to have to know what question you want answered and what data you have available in order to select the best method for your purpose. Luckily, SKLearn's interfaces are easy to switch out so in the mean time, you can experiment with all of them and see how they alter your results.\n",
    "\n",
    "5-sec summary before you dive deeper online:"
   ]
  },
  {
   "cell_type": "markdown",
   "metadata": {
    "collapsed": true
   },
   "source": [
    "### Normalization"
   ]
  },
  {
   "cell_type": "markdown",
   "metadata": {},
   "source": [
    "Let's say your user spend a LOT. Normalization divides each item by the average overall amount of spending. Stated differently, your new feature is = the contribution of overall spending going into that particular item: \\$spent on feature / \\$overall spent by sample."
   ]
  },
  {
   "cell_type": "markdown",
   "metadata": {
    "collapsed": false
   },
   "source": [
    "### MinMax"
   ]
  },
  {
   "cell_type": "markdown",
   "metadata": {},
   "source": [
    "What % in the overall range of $spent by all users on THIS particular feature is the current sample's feature at? When you're dealing with all the same units, this will produce a near face-value amount. Be careful though: if you have even a single outlier, it can cause all your data to get squashed up in lower percentages.\n",
    "\n",
    "Imagine your buyers usually spend \\$100 on wholesale milk, but today only spent \\$20. This is the relationship you're trying to capture with MinMax. NOTE: MinMax doesn't standardize (std. dev.); it only normalizes / unitizes your feature, in the mathematical sense. MinMax can be used as an alternative to zero mean, unit variance scaling. [(sampleFeatureValue-min) / (max-min)] * (max-min) + min Where min and max are for the overall feature values for all samples."
   ]
  },
  {
   "cell_type": "markdown",
   "metadata": {
    "collapsed": false
   },
   "source": [
    "### Back to The Assignment"
   ]
  },
  {
   "cell_type": "markdown",
   "metadata": {
    "collapsed": false
   },
   "source": [
    "Un-comment just ***ONE*** of lines at a time and see how alters your results. Pay attention to the direction of the arrows, as well as their LENGTHS:"
   ]
  },
  {
   "cell_type": "code",
   "execution_count": 32,
   "metadata": {
    "collapsed": false
   },
   "outputs": [
    {
     "name": "stderr",
     "output_type": "stream",
     "text": [
      "C:\\Users\\SCarranza\\AppData\\Local\\Continuum\\Anaconda3\\lib\\site-packages\\sklearn\\utils\\validation.py:429: DataConversionWarning: Data with input dtype int64 was converted to float64 by the normalize function.\n",
      "  warnings.warn(msg, _DataConversionWarning)\n"
     ]
    }
   ],
   "source": [
    "T = preprocessing.StandardScaler().fit_transform(df)\n",
    "#T = preprocessing.MinMaxScaler().fit_transform(df)\n",
    "#T = preprocessing.MaxAbsScaler().fit_transform(df)\n",
    "T = preprocessing.Normalizer().fit_transform(df)\n",
    "T = df # No Change"
   ]
  },
  {
   "cell_type": "markdown",
   "metadata": {
    "collapsed": true
   },
   "source": [
    "Sometimes people perform PCA before doing KMeans, so that KMeans only operates on the most meaningful features. In our case, there are so few features that doing PCA ahead of time isn't really necessary, and you can do KMeans in feature space. But keep in mind you have the option to transform your data to bring down its dimensionality. If you take that route, then your Clusters will already be in PCA-transformed feature space, and you won't have to project them again for visualization."
   ]
  },
  {
   "cell_type": "code",
   "execution_count": 33,
   "metadata": {
    "collapsed": false
   },
   "outputs": [],
   "source": [
    "# Do KMeans\n",
    "\n",
    "n_clusters = 3\n",
    "centroids, labels = doKMeans(T, n_clusters)"
   ]
  },
  {
   "cell_type": "markdown",
   "metadata": {},
   "source": [
    "Print out your centroids. They're currently in feature-space, which is good. Print them out before you transform them into PCA space for viewing"
   ]
  },
  {
   "cell_type": "code",
   "execution_count": 34,
   "metadata": {
    "collapsed": false
   },
   "outputs": [
    {
     "data": {
      "text/plain": [
       "array([[  6.98888546e+03,   3.29195595e+03,   4.07160793e+03,\n",
       "          2.46087225e+03,   1.21600441e+03,   1.03018502e+03,\n",
       "          4.44089210e-16],\n",
       "       [  2.53947292e+04,   4.04512500e+03,   5.21907292e+03,\n",
       "          3.80859375e+03,   1.13041667e+03,   1.61495833e+03,\n",
       "          2.00000000e+00],\n",
       "       [  4.69505333e+03,   1.21565600e+04,   1.86295333e+04,\n",
       "          1.68488000e+03,   8.47348000e+03,   1.60065333e+03,\n",
       "          1.00000000e+00]])"
      ]
     },
     "execution_count": 34,
     "metadata": {},
     "output_type": "execute_result"
    }
   ],
   "source": [
    "centroids"
   ]
  },
  {
   "cell_type": "markdown",
   "metadata": {},
   "source": [
    "Now that we've clustered our KMeans, let's do PCA, using it as a tool to visualize the results. Project the centroids as well as the samples into the new 2D feature space for visualization purposes:"
   ]
  },
  {
   "cell_type": "code",
   "execution_count": 35,
   "metadata": {
    "collapsed": false
   },
   "outputs": [],
   "source": [
    "display_pca = doPCA(T)\n",
    "T = display_pca.transform(T)\n",
    "CC = display_pca.transform(centroids)"
   ]
  },
  {
   "cell_type": "markdown",
   "metadata": {},
   "source": [
    "Visualize all the samples. Give them the color of their cluster label"
   ]
  },
  {
   "cell_type": "code",
   "execution_count": 36,
   "metadata": {
    "collapsed": false
   },
   "outputs": [],
   "source": [
    "fig = plt.figure()\n",
    "ax = fig.add_subplot(111)\n",
    "if PLOT_TYPE_TEXT:\n",
    "    # Plot the index of the sample, so you can further investigate it in your dset\n",
    "    for i in range(len(T)): ax.text(T[i,0], T[i,1], df.index[i], color=c[labels[i]], alpha=0.75, zorder=600000)\n",
    "    ax.set_xlim(min(T[:,0])*1.2, max(T[:,0])*1.2)\n",
    "    ax.set_ylim(min(T[:,1])*1.2, max(T[:,1])*1.2)\n",
    "else:\n",
    "    # Plot a regular scatter plot\n",
    "    sample_colors = [ c[labels[i]] for i in range(len(T)) ]\n",
    "    ax.scatter(T[:, 0], T[:, 1], c=sample_colors, marker='o', alpha=0.2)"
   ]
  },
  {
   "cell_type": "markdown",
   "metadata": {},
   "source": [
    "Plot the Centroids as X's, and label them"
   ]
  },
  {
   "cell_type": "code",
   "execution_count": 37,
   "metadata": {
    "collapsed": false
   },
   "outputs": [],
   "source": [
    "ax.scatter(CC[:, 0], CC[:, 1], marker='x', s=169, linewidths=3, zorder=1000, c=c)\n",
    "for i in range(len(centroids)):\n",
    "    ax.text(CC[i, 0], CC[i, 1], str(i), zorder=500010, fontsize=18, color=c[i])"
   ]
  },
  {
   "cell_type": "code",
   "execution_count": 38,
   "metadata": {
    "collapsed": false
   },
   "outputs": [
    {
     "name": "stdout",
     "output_type": "stream",
     "text": [
      "Projected Features by importance:\n",
      " [(37457.237954475495, 'Fresh'), (29687.705538433842, 'Grocery'), (19639.84970332433, 'Milk'), (14205.581974170487, 'Detergents_Paper'), (2827.8620173048876, 'Frozen'), (2050.9699500474985, 'Delicassen'), (2.802407361879139, 'label')]\n"
     ]
    }
   ],
   "source": [
    "# Display feature vectors for investigation:\n",
    "if PLOT_VECTORS:\n",
    "    drawVectors(T, display_pca.components_, df.columns, plt)"
   ]
  },
  {
   "cell_type": "code",
   "execution_count": 39,
   "metadata": {
    "collapsed": false
   },
   "outputs": [
    {
     "data": {
      "text/html": [
       "<div>\n",
       "<table border=\"1\" class=\"dataframe\">\n",
       "  <thead>\n",
       "    <tr style=\"text-align: right;\">\n",
       "      <th></th>\n",
       "      <th>Fresh</th>\n",
       "      <th>Milk</th>\n",
       "      <th>Grocery</th>\n",
       "      <th>Frozen</th>\n",
       "      <th>Detergents_Paper</th>\n",
       "      <th>Delicassen</th>\n",
       "      <th>label</th>\n",
       "    </tr>\n",
       "  </thead>\n",
       "  <tbody>\n",
       "    <tr>\n",
       "      <th>0</th>\n",
       "      <td>12669</td>\n",
       "      <td>9656</td>\n",
       "      <td>7561</td>\n",
       "      <td>214</td>\n",
       "      <td>2674</td>\n",
       "      <td>1338</td>\n",
       "      <td>0</td>\n",
       "    </tr>\n",
       "    <tr>\n",
       "      <th>1</th>\n",
       "      <td>7057</td>\n",
       "      <td>9810</td>\n",
       "      <td>9568</td>\n",
       "      <td>1762</td>\n",
       "      <td>3293</td>\n",
       "      <td>1776</td>\n",
       "      <td>0</td>\n",
       "    </tr>\n",
       "    <tr>\n",
       "      <th>2</th>\n",
       "      <td>6353</td>\n",
       "      <td>8808</td>\n",
       "      <td>7684</td>\n",
       "      <td>2405</td>\n",
       "      <td>3516</td>\n",
       "      <td>7844</td>\n",
       "      <td>0</td>\n",
       "    </tr>\n",
       "    <tr>\n",
       "      <th>3</th>\n",
       "      <td>13265</td>\n",
       "      <td>1196</td>\n",
       "      <td>4221</td>\n",
       "      <td>6404</td>\n",
       "      <td>507</td>\n",
       "      <td>1788</td>\n",
       "      <td>0</td>\n",
       "    </tr>\n",
       "    <tr>\n",
       "      <th>4</th>\n",
       "      <td>22615</td>\n",
       "      <td>5410</td>\n",
       "      <td>7198</td>\n",
       "      <td>3915</td>\n",
       "      <td>1777</td>\n",
       "      <td>5185</td>\n",
       "      <td>1</td>\n",
       "    </tr>\n",
       "    <tr>\n",
       "      <th>5</th>\n",
       "      <td>9413</td>\n",
       "      <td>8259</td>\n",
       "      <td>5126</td>\n",
       "      <td>666</td>\n",
       "      <td>1795</td>\n",
       "      <td>1451</td>\n",
       "      <td>0</td>\n",
       "    </tr>\n",
       "    <tr>\n",
       "      <th>6</th>\n",
       "      <td>12126</td>\n",
       "      <td>3199</td>\n",
       "      <td>6975</td>\n",
       "      <td>480</td>\n",
       "      <td>3140</td>\n",
       "      <td>545</td>\n",
       "      <td>0</td>\n",
       "    </tr>\n",
       "    <tr>\n",
       "      <th>7</th>\n",
       "      <td>7579</td>\n",
       "      <td>4956</td>\n",
       "      <td>9426</td>\n",
       "      <td>1669</td>\n",
       "      <td>3321</td>\n",
       "      <td>2566</td>\n",
       "      <td>0</td>\n",
       "    </tr>\n",
       "    <tr>\n",
       "      <th>8</th>\n",
       "      <td>5963</td>\n",
       "      <td>3648</td>\n",
       "      <td>6192</td>\n",
       "      <td>425</td>\n",
       "      <td>1716</td>\n",
       "      <td>750</td>\n",
       "      <td>0</td>\n",
       "    </tr>\n",
       "    <tr>\n",
       "      <th>9</th>\n",
       "      <td>6006</td>\n",
       "      <td>11093</td>\n",
       "      <td>18881</td>\n",
       "      <td>1159</td>\n",
       "      <td>7425</td>\n",
       "      <td>2098</td>\n",
       "      <td>2</td>\n",
       "    </tr>\n",
       "    <tr>\n",
       "      <th>10</th>\n",
       "      <td>3366</td>\n",
       "      <td>5403</td>\n",
       "      <td>12974</td>\n",
       "      <td>4400</td>\n",
       "      <td>5977</td>\n",
       "      <td>1744</td>\n",
       "      <td>2</td>\n",
       "    </tr>\n",
       "    <tr>\n",
       "      <th>11</th>\n",
       "      <td>13146</td>\n",
       "      <td>1124</td>\n",
       "      <td>4523</td>\n",
       "      <td>1420</td>\n",
       "      <td>549</td>\n",
       "      <td>497</td>\n",
       "      <td>0</td>\n",
       "    </tr>\n",
       "    <tr>\n",
       "      <th>12</th>\n",
       "      <td>31714</td>\n",
       "      <td>12319</td>\n",
       "      <td>11757</td>\n",
       "      <td>287</td>\n",
       "      <td>3881</td>\n",
       "      <td>2931</td>\n",
       "      <td>1</td>\n",
       "    </tr>\n",
       "    <tr>\n",
       "      <th>13</th>\n",
       "      <td>21217</td>\n",
       "      <td>6208</td>\n",
       "      <td>14982</td>\n",
       "      <td>3095</td>\n",
       "      <td>6707</td>\n",
       "      <td>602</td>\n",
       "      <td>1</td>\n",
       "    </tr>\n",
       "    <tr>\n",
       "      <th>14</th>\n",
       "      <td>24653</td>\n",
       "      <td>9465</td>\n",
       "      <td>12091</td>\n",
       "      <td>294</td>\n",
       "      <td>5058</td>\n",
       "      <td>2168</td>\n",
       "      <td>1</td>\n",
       "    </tr>\n",
       "    <tr>\n",
       "      <th>15</th>\n",
       "      <td>10253</td>\n",
       "      <td>1114</td>\n",
       "      <td>3821</td>\n",
       "      <td>397</td>\n",
       "      <td>964</td>\n",
       "      <td>412</td>\n",
       "      <td>0</td>\n",
       "    </tr>\n",
       "    <tr>\n",
       "      <th>16</th>\n",
       "      <td>1020</td>\n",
       "      <td>8816</td>\n",
       "      <td>12121</td>\n",
       "      <td>134</td>\n",
       "      <td>4508</td>\n",
       "      <td>1080</td>\n",
       "      <td>2</td>\n",
       "    </tr>\n",
       "    <tr>\n",
       "      <th>17</th>\n",
       "      <td>5876</td>\n",
       "      <td>6157</td>\n",
       "      <td>2933</td>\n",
       "      <td>839</td>\n",
       "      <td>370</td>\n",
       "      <td>4478</td>\n",
       "      <td>0</td>\n",
       "    </tr>\n",
       "    <tr>\n",
       "      <th>18</th>\n",
       "      <td>18601</td>\n",
       "      <td>6327</td>\n",
       "      <td>10099</td>\n",
       "      <td>2205</td>\n",
       "      <td>2767</td>\n",
       "      <td>3181</td>\n",
       "      <td>1</td>\n",
       "    </tr>\n",
       "    <tr>\n",
       "      <th>19</th>\n",
       "      <td>7780</td>\n",
       "      <td>2495</td>\n",
       "      <td>9464</td>\n",
       "      <td>669</td>\n",
       "      <td>2518</td>\n",
       "      <td>501</td>\n",
       "      <td>0</td>\n",
       "    </tr>\n",
       "    <tr>\n",
       "      <th>20</th>\n",
       "      <td>17546</td>\n",
       "      <td>4519</td>\n",
       "      <td>4602</td>\n",
       "      <td>1066</td>\n",
       "      <td>2259</td>\n",
       "      <td>2124</td>\n",
       "      <td>1</td>\n",
       "    </tr>\n",
       "    <tr>\n",
       "      <th>21</th>\n",
       "      <td>5567</td>\n",
       "      <td>871</td>\n",
       "      <td>2010</td>\n",
       "      <td>3383</td>\n",
       "      <td>375</td>\n",
       "      <td>569</td>\n",
       "      <td>0</td>\n",
       "    </tr>\n",
       "    <tr>\n",
       "      <th>22</th>\n",
       "      <td>31276</td>\n",
       "      <td>1917</td>\n",
       "      <td>4469</td>\n",
       "      <td>9408</td>\n",
       "      <td>2381</td>\n",
       "      <td>4334</td>\n",
       "      <td>1</td>\n",
       "    </tr>\n",
       "    <tr>\n",
       "      <th>24</th>\n",
       "      <td>22647</td>\n",
       "      <td>9776</td>\n",
       "      <td>13792</td>\n",
       "      <td>2915</td>\n",
       "      <td>4482</td>\n",
       "      <td>5778</td>\n",
       "      <td>1</td>\n",
       "    </tr>\n",
       "    <tr>\n",
       "      <th>25</th>\n",
       "      <td>16165</td>\n",
       "      <td>4230</td>\n",
       "      <td>7595</td>\n",
       "      <td>201</td>\n",
       "      <td>4003</td>\n",
       "      <td>57</td>\n",
       "      <td>0</td>\n",
       "    </tr>\n",
       "    <tr>\n",
       "      <th>26</th>\n",
       "      <td>9898</td>\n",
       "      <td>961</td>\n",
       "      <td>2861</td>\n",
       "      <td>3151</td>\n",
       "      <td>242</td>\n",
       "      <td>833</td>\n",
       "      <td>0</td>\n",
       "    </tr>\n",
       "    <tr>\n",
       "      <th>27</th>\n",
       "      <td>14276</td>\n",
       "      <td>803</td>\n",
       "      <td>3045</td>\n",
       "      <td>485</td>\n",
       "      <td>100</td>\n",
       "      <td>518</td>\n",
       "      <td>0</td>\n",
       "    </tr>\n",
       "    <tr>\n",
       "      <th>28</th>\n",
       "      <td>4113</td>\n",
       "      <td>20484</td>\n",
       "      <td>25957</td>\n",
       "      <td>1158</td>\n",
       "      <td>8604</td>\n",
       "      <td>5206</td>\n",
       "      <td>2</td>\n",
       "    </tr>\n",
       "    <tr>\n",
       "      <th>29</th>\n",
       "      <td>43088</td>\n",
       "      <td>2100</td>\n",
       "      <td>2609</td>\n",
       "      <td>1200</td>\n",
       "      <td>1107</td>\n",
       "      <td>823</td>\n",
       "      <td>1</td>\n",
       "    </tr>\n",
       "    <tr>\n",
       "      <th>30</th>\n",
       "      <td>18815</td>\n",
       "      <td>3610</td>\n",
       "      <td>11107</td>\n",
       "      <td>1148</td>\n",
       "      <td>2134</td>\n",
       "      <td>2963</td>\n",
       "      <td>1</td>\n",
       "    </tr>\n",
       "    <tr>\n",
       "      <th>...</th>\n",
       "      <td>...</td>\n",
       "      <td>...</td>\n",
       "      <td>...</td>\n",
       "      <td>...</td>\n",
       "      <td>...</td>\n",
       "      <td>...</td>\n",
       "      <td>...</td>\n",
       "    </tr>\n",
       "    <tr>\n",
       "      <th>409</th>\n",
       "      <td>8708</td>\n",
       "      <td>3634</td>\n",
       "      <td>6100</td>\n",
       "      <td>2349</td>\n",
       "      <td>2123</td>\n",
       "      <td>5137</td>\n",
       "      <td>0</td>\n",
       "    </tr>\n",
       "    <tr>\n",
       "      <th>410</th>\n",
       "      <td>6633</td>\n",
       "      <td>2096</td>\n",
       "      <td>4563</td>\n",
       "      <td>1389</td>\n",
       "      <td>1860</td>\n",
       "      <td>1892</td>\n",
       "      <td>0</td>\n",
       "    </tr>\n",
       "    <tr>\n",
       "      <th>411</th>\n",
       "      <td>2126</td>\n",
       "      <td>3289</td>\n",
       "      <td>3281</td>\n",
       "      <td>1535</td>\n",
       "      <td>235</td>\n",
       "      <td>4365</td>\n",
       "      <td>0</td>\n",
       "    </tr>\n",
       "    <tr>\n",
       "      <th>412</th>\n",
       "      <td>97</td>\n",
       "      <td>3605</td>\n",
       "      <td>12400</td>\n",
       "      <td>98</td>\n",
       "      <td>2970</td>\n",
       "      <td>62</td>\n",
       "      <td>0</td>\n",
       "    </tr>\n",
       "    <tr>\n",
       "      <th>413</th>\n",
       "      <td>4983</td>\n",
       "      <td>4859</td>\n",
       "      <td>6633</td>\n",
       "      <td>17866</td>\n",
       "      <td>912</td>\n",
       "      <td>2435</td>\n",
       "      <td>0</td>\n",
       "    </tr>\n",
       "    <tr>\n",
       "      <th>414</th>\n",
       "      <td>5969</td>\n",
       "      <td>1990</td>\n",
       "      <td>3417</td>\n",
       "      <td>5679</td>\n",
       "      <td>1135</td>\n",
       "      <td>290</td>\n",
       "      <td>0</td>\n",
       "    </tr>\n",
       "    <tr>\n",
       "      <th>415</th>\n",
       "      <td>7842</td>\n",
       "      <td>6046</td>\n",
       "      <td>8552</td>\n",
       "      <td>1691</td>\n",
       "      <td>3540</td>\n",
       "      <td>1874</td>\n",
       "      <td>0</td>\n",
       "    </tr>\n",
       "    <tr>\n",
       "      <th>416</th>\n",
       "      <td>4389</td>\n",
       "      <td>10940</td>\n",
       "      <td>10908</td>\n",
       "      <td>848</td>\n",
       "      <td>6728</td>\n",
       "      <td>993</td>\n",
       "      <td>2</td>\n",
       "    </tr>\n",
       "    <tr>\n",
       "      <th>417</th>\n",
       "      <td>5065</td>\n",
       "      <td>5499</td>\n",
       "      <td>11055</td>\n",
       "      <td>364</td>\n",
       "      <td>3485</td>\n",
       "      <td>1063</td>\n",
       "      <td>0</td>\n",
       "    </tr>\n",
       "    <tr>\n",
       "      <th>418</th>\n",
       "      <td>660</td>\n",
       "      <td>8494</td>\n",
       "      <td>18622</td>\n",
       "      <td>133</td>\n",
       "      <td>6740</td>\n",
       "      <td>776</td>\n",
       "      <td>2</td>\n",
       "    </tr>\n",
       "    <tr>\n",
       "      <th>419</th>\n",
       "      <td>8861</td>\n",
       "      <td>3783</td>\n",
       "      <td>2223</td>\n",
       "      <td>633</td>\n",
       "      <td>1580</td>\n",
       "      <td>1521</td>\n",
       "      <td>0</td>\n",
       "    </tr>\n",
       "    <tr>\n",
       "      <th>421</th>\n",
       "      <td>17063</td>\n",
       "      <td>4847</td>\n",
       "      <td>9053</td>\n",
       "      <td>1031</td>\n",
       "      <td>3415</td>\n",
       "      <td>1784</td>\n",
       "      <td>1</td>\n",
       "    </tr>\n",
       "    <tr>\n",
       "      <th>422</th>\n",
       "      <td>26400</td>\n",
       "      <td>1377</td>\n",
       "      <td>4172</td>\n",
       "      <td>830</td>\n",
       "      <td>948</td>\n",
       "      <td>1218</td>\n",
       "      <td>1</td>\n",
       "    </tr>\n",
       "    <tr>\n",
       "      <th>423</th>\n",
       "      <td>17565</td>\n",
       "      <td>3686</td>\n",
       "      <td>4657</td>\n",
       "      <td>1059</td>\n",
       "      <td>1803</td>\n",
       "      <td>668</td>\n",
       "      <td>1</td>\n",
       "    </tr>\n",
       "    <tr>\n",
       "      <th>424</th>\n",
       "      <td>16980</td>\n",
       "      <td>2884</td>\n",
       "      <td>12232</td>\n",
       "      <td>874</td>\n",
       "      <td>3213</td>\n",
       "      <td>249</td>\n",
       "      <td>1</td>\n",
       "    </tr>\n",
       "    <tr>\n",
       "      <th>425</th>\n",
       "      <td>11243</td>\n",
       "      <td>2408</td>\n",
       "      <td>2593</td>\n",
       "      <td>15348</td>\n",
       "      <td>108</td>\n",
       "      <td>1886</td>\n",
       "      <td>0</td>\n",
       "    </tr>\n",
       "    <tr>\n",
       "      <th>426</th>\n",
       "      <td>13134</td>\n",
       "      <td>9347</td>\n",
       "      <td>14316</td>\n",
       "      <td>3141</td>\n",
       "      <td>5079</td>\n",
       "      <td>1894</td>\n",
       "      <td>2</td>\n",
       "    </tr>\n",
       "    <tr>\n",
       "      <th>427</th>\n",
       "      <td>31012</td>\n",
       "      <td>16687</td>\n",
       "      <td>5429</td>\n",
       "      <td>15082</td>\n",
       "      <td>439</td>\n",
       "      <td>1163</td>\n",
       "      <td>1</td>\n",
       "    </tr>\n",
       "    <tr>\n",
       "      <th>428</th>\n",
       "      <td>3047</td>\n",
       "      <td>5970</td>\n",
       "      <td>4910</td>\n",
       "      <td>2198</td>\n",
       "      <td>850</td>\n",
       "      <td>317</td>\n",
       "      <td>0</td>\n",
       "    </tr>\n",
       "    <tr>\n",
       "      <th>429</th>\n",
       "      <td>8607</td>\n",
       "      <td>1750</td>\n",
       "      <td>3580</td>\n",
       "      <td>47</td>\n",
       "      <td>84</td>\n",
       "      <td>2501</td>\n",
       "      <td>0</td>\n",
       "    </tr>\n",
       "    <tr>\n",
       "      <th>430</th>\n",
       "      <td>3097</td>\n",
       "      <td>4230</td>\n",
       "      <td>16483</td>\n",
       "      <td>575</td>\n",
       "      <td>241</td>\n",
       "      <td>2080</td>\n",
       "      <td>2</td>\n",
       "    </tr>\n",
       "    <tr>\n",
       "      <th>431</th>\n",
       "      <td>8533</td>\n",
       "      <td>5506</td>\n",
       "      <td>5160</td>\n",
       "      <td>13486</td>\n",
       "      <td>1377</td>\n",
       "      <td>1498</td>\n",
       "      <td>0</td>\n",
       "    </tr>\n",
       "    <tr>\n",
       "      <th>432</th>\n",
       "      <td>21117</td>\n",
       "      <td>1162</td>\n",
       "      <td>4754</td>\n",
       "      <td>269</td>\n",
       "      <td>1328</td>\n",
       "      <td>395</td>\n",
       "      <td>1</td>\n",
       "    </tr>\n",
       "    <tr>\n",
       "      <th>433</th>\n",
       "      <td>1982</td>\n",
       "      <td>3218</td>\n",
       "      <td>1493</td>\n",
       "      <td>1541</td>\n",
       "      <td>356</td>\n",
       "      <td>1449</td>\n",
       "      <td>0</td>\n",
       "    </tr>\n",
       "    <tr>\n",
       "      <th>434</th>\n",
       "      <td>16731</td>\n",
       "      <td>3922</td>\n",
       "      <td>7994</td>\n",
       "      <td>688</td>\n",
       "      <td>2371</td>\n",
       "      <td>838</td>\n",
       "      <td>1</td>\n",
       "    </tr>\n",
       "    <tr>\n",
       "      <th>435</th>\n",
       "      <td>29703</td>\n",
       "      <td>12051</td>\n",
       "      <td>16027</td>\n",
       "      <td>13135</td>\n",
       "      <td>182</td>\n",
       "      <td>2204</td>\n",
       "      <td>1</td>\n",
       "    </tr>\n",
       "    <tr>\n",
       "      <th>436</th>\n",
       "      <td>39228</td>\n",
       "      <td>1431</td>\n",
       "      <td>764</td>\n",
       "      <td>4510</td>\n",
       "      <td>93</td>\n",
       "      <td>2346</td>\n",
       "      <td>1</td>\n",
       "    </tr>\n",
       "    <tr>\n",
       "      <th>437</th>\n",
       "      <td>14531</td>\n",
       "      <td>15488</td>\n",
       "      <td>30243</td>\n",
       "      <td>437</td>\n",
       "      <td>14841</td>\n",
       "      <td>1867</td>\n",
       "      <td>2</td>\n",
       "    </tr>\n",
       "    <tr>\n",
       "      <th>438</th>\n",
       "      <td>10290</td>\n",
       "      <td>1981</td>\n",
       "      <td>2232</td>\n",
       "      <td>1038</td>\n",
       "      <td>168</td>\n",
       "      <td>2125</td>\n",
       "      <td>0</td>\n",
       "    </tr>\n",
       "    <tr>\n",
       "      <th>439</th>\n",
       "      <td>2787</td>\n",
       "      <td>1698</td>\n",
       "      <td>2510</td>\n",
       "      <td>65</td>\n",
       "      <td>477</td>\n",
       "      <td>52</td>\n",
       "      <td>0</td>\n",
       "    </tr>\n",
       "  </tbody>\n",
       "</table>\n",
       "<p>398 rows × 7 columns</p>\n",
       "</div>"
      ],
      "text/plain": [
       "     Fresh   Milk  Grocery  Frozen  Detergents_Paper  Delicassen  label\n",
       "0    12669   9656     7561     214              2674        1338      0\n",
       "1     7057   9810     9568    1762              3293        1776      0\n",
       "2     6353   8808     7684    2405              3516        7844      0\n",
       "3    13265   1196     4221    6404               507        1788      0\n",
       "4    22615   5410     7198    3915              1777        5185      1\n",
       "5     9413   8259     5126     666              1795        1451      0\n",
       "6    12126   3199     6975     480              3140         545      0\n",
       "7     7579   4956     9426    1669              3321        2566      0\n",
       "8     5963   3648     6192     425              1716         750      0\n",
       "9     6006  11093    18881    1159              7425        2098      2\n",
       "10    3366   5403    12974    4400              5977        1744      2\n",
       "11   13146   1124     4523    1420               549         497      0\n",
       "12   31714  12319    11757     287              3881        2931      1\n",
       "13   21217   6208    14982    3095              6707         602      1\n",
       "14   24653   9465    12091     294              5058        2168      1\n",
       "15   10253   1114     3821     397               964         412      0\n",
       "16    1020   8816    12121     134              4508        1080      2\n",
       "17    5876   6157     2933     839               370        4478      0\n",
       "18   18601   6327    10099    2205              2767        3181      1\n",
       "19    7780   2495     9464     669              2518         501      0\n",
       "20   17546   4519     4602    1066              2259        2124      1\n",
       "21    5567    871     2010    3383               375         569      0\n",
       "22   31276   1917     4469    9408              2381        4334      1\n",
       "24   22647   9776    13792    2915              4482        5778      1\n",
       "25   16165   4230     7595     201              4003          57      0\n",
       "26    9898    961     2861    3151               242         833      0\n",
       "27   14276    803     3045     485               100         518      0\n",
       "28    4113  20484    25957    1158              8604        5206      2\n",
       "29   43088   2100     2609    1200              1107         823      1\n",
       "30   18815   3610    11107    1148              2134        2963      1\n",
       "..     ...    ...      ...     ...               ...         ...    ...\n",
       "409   8708   3634     6100    2349              2123        5137      0\n",
       "410   6633   2096     4563    1389              1860        1892      0\n",
       "411   2126   3289     3281    1535               235        4365      0\n",
       "412     97   3605    12400      98              2970          62      0\n",
       "413   4983   4859     6633   17866               912        2435      0\n",
       "414   5969   1990     3417    5679              1135         290      0\n",
       "415   7842   6046     8552    1691              3540        1874      0\n",
       "416   4389  10940    10908     848              6728         993      2\n",
       "417   5065   5499    11055     364              3485        1063      0\n",
       "418    660   8494    18622     133              6740         776      2\n",
       "419   8861   3783     2223     633              1580        1521      0\n",
       "421  17063   4847     9053    1031              3415        1784      1\n",
       "422  26400   1377     4172     830               948        1218      1\n",
       "423  17565   3686     4657    1059              1803         668      1\n",
       "424  16980   2884    12232     874              3213         249      1\n",
       "425  11243   2408     2593   15348               108        1886      0\n",
       "426  13134   9347    14316    3141              5079        1894      2\n",
       "427  31012  16687     5429   15082               439        1163      1\n",
       "428   3047   5970     4910    2198               850         317      0\n",
       "429   8607   1750     3580      47                84        2501      0\n",
       "430   3097   4230    16483     575               241        2080      2\n",
       "431   8533   5506     5160   13486              1377        1498      0\n",
       "432  21117   1162     4754     269              1328         395      1\n",
       "433   1982   3218     1493    1541               356        1449      0\n",
       "434  16731   3922     7994     688              2371         838      1\n",
       "435  29703  12051    16027   13135               182        2204      1\n",
       "436  39228   1431      764    4510                93        2346      1\n",
       "437  14531  15488    30243     437             14841        1867      2\n",
       "438  10290   1981     2232    1038               168        2125      0\n",
       "439   2787   1698     2510      65               477          52      0\n",
       "\n",
       "[398 rows x 7 columns]"
      ]
     },
     "execution_count": 39,
     "metadata": {},
     "output_type": "execute_result"
    }
   ],
   "source": [
    "# Add the cluster label back into the dataframe and display it:\n",
    "df['label'] = pd.Series(labels, index=df.index)\n",
    "df"
   ]
  },
  {
   "cell_type": "code",
   "execution_count": 40,
   "metadata": {
    "collapsed": false
   },
   "outputs": [
    {
     "data": {
      "image/png": "[encoded data removed]",
      "text/plain": [
       "<matplotlib.figure.Figure at 0x1f1ec493940>"
      ]
     },
     "metadata": {},
     "output_type": "display_data"
    }
   ],
   "source": [
    "plt.show()"
   ]
  },
  {
   "cell_type": "code",
   "execution_count": null,
   "metadata": {
    "collapsed": true
   },
   "outputs": [],
   "source": []
  },
  {
   "cell_type": "code",
   "execution_count": null,
   "metadata": {
    "collapsed": true
   },
   "outputs": [],
   "source": []
  }
 ],
 "metadata": {
  "anaconda-cloud": {},
  "kernelspec": {
   "display_name": "Python 3",
   "language": "python",
   "name": "python3"
  },
  "language_info": {
   "codemirror_mode": {
    "name": "ipython",
    "version": 3
   },
   "file_extension": ".py",
   "mimetype": "text/x-python",
   "name": "python",
   "nbconvert_exporter": "python",
   "pygments_lexer": "ipython3",
   "version": "3.6.0"
  },
  "toc": {
   "colors": {
    "hover_highlight": "#DAA520",
    "running_highlight": "#FF0000",
    "selected_highlight": "#FFD700"
   },
   "moveMenuLeft": true,
   "nav_menu": {
    "height": "58px",
    "width": "252px"
   },
   "navigate_menu": true,
   "number_sections": true,
   "sideBar": true,
   "threshold": 4,
   "toc_cell": false,
   "toc_section_display": "block",
   "toc_window_display": false,
   "widenNotebook": false
  }
 },
 "nbformat": 4,
 "nbformat_minor": 2
}
